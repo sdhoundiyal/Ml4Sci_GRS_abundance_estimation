{
 "cells": [
  {
   "cell_type": "code",
   "execution_count": 1,
   "id": "9cbd65bd",
   "metadata": {},
   "outputs": [
    {
     "data": {
      "text/html": [
       "<style>.container { width:100% !important; }</style>"
      ],
      "text/plain": [
       "<IPython.core.display.HTML object>"
      ]
     },
     "metadata": {},
     "output_type": "display_data"
    }
   ],
   "source": [
    "#expand cell width to 100%\n",
    "from IPython.display import display, HTML\n",
    "display(HTML(\"<style>.container { width:100% !important; }</style>\"))"
   ]
  },
  {
   "cell_type": "code",
   "execution_count": 2,
   "id": "98494713",
   "metadata": {},
   "outputs": [],
   "source": [
    "#import numpy\n",
    "import numpy as np\n",
    "#import pyplot as matplotlib\n",
    "import matplotlib.pyplot as plt\n",
    "#import os\n",
    "import os\n",
    "#import the regex package\n",
    "import re"
   ]
  },
  {
   "cell_type": "code",
   "execution_count": 3,
   "id": "e4540fae",
   "metadata": {},
   "outputs": [],
   "source": [
    "#set the addresses where the arrays containing the spectra, and their parameters are to be saved\n",
    "maxLatitudePerSectionPickleAddress=\"D:/Non-academic/GSOC23/Dataset/maxLatitudePerSection.npy\"\n",
    "minLatitudePerSectionPickleAddress=\"D:/Non-academic/GSOC23/Dataset/minLatitudePerSection.npy\"\n",
    "maxLongitudePerSectionPickleAddress=\"D:/Non-academic/GSOC23/Dataset/maxLongitudePerSection.npy\"\n",
    "minLongitudePerSectionPickleAddress=\"D:/Non-academic/GSOC23/Dataset/minLongitudePerSection.npy\"\n",
    "noOfSpectraPerSectionPickleAddress=\"D:/Non-academic/GSOC23/Dataset/noOfSpectraPerSection.npy\"\n",
    "totalActiveTimePerSectionPickleAddress=\"D:/Non-academic/GSOC23/Dataset/totalActiveTimePerSection.npy\"\n",
    "summedSpectraPerSectionPickleAddress=\"D:/Non-academic/GSOC23/Dataset/summedSpectraPerSection.npy\"\n",
    "normalizedSpectraPerSectionPickleAddress=\"D:/Non-academic/GSOC23/Dataset/normalizedSpectraPerSection.npy\"\n",
    "logScaledNormalizedSpectraPerSectionPickleAddress=\"D:/Non-academic/GSOC23/Dataset/logScaledNormalizedSpectraPerSection.npy\""
   ]
  },
  {
   "cell_type": "code",
   "execution_count": 4,
   "id": "e3c60b38",
   "metadata": {},
   "outputs": [],
   "source": [
    "#load the numpy arrays containing the spectra and their parameters\n",
    "maxLatitudePerSection=np.load(maxLatitudePerSectionPickleAddress,\n",
    "                              allow_pickle=True,\n",
    "                              fix_imports=True)\n",
    "minLatitudePerSection=np.load(minLatitudePerSectionPickleAddress,\n",
    "                              allow_pickle=True,\n",
    "                              fix_imports=True)\n",
    "maxLongitudePerSection=np.load(maxLongitudePerSectionPickleAddress,\n",
    "                              allow_pickle=True,\n",
    "                              fix_imports=True)\n",
    "minLongitudePerSection=np.load(minLongitudePerSectionPickleAddress,\n",
    "                              allow_pickle=True,\n",
    "                              fix_imports=True)\n",
    "noOfSpectraPerSection=np.load(noOfSpectraPerSectionPickleAddress,\n",
    "                              allow_pickle=True,\n",
    "                              fix_imports=True)\n",
    "totalActiveTimePerSection=np.load(totalActiveTimePerSectionPickleAddress,\n",
    "                              allow_pickle=True,\n",
    "                              fix_imports=True)\n",
    "summedSpectraPerSection=np.load(summedSpectraPerSectionPickleAddress,\n",
    "                                allow_pickle=True,\n",
    "                                fix_imports=True)\n",
    "normalizedSpectraPerSection=np.load(normalizedSpectraPerSectionPickleAddress,\n",
    "                              allow_pickle=True,\n",
    "                              fix_imports=True)\n",
    "logScaledNormalizedSpectraPerSection=np.load(logScaledNormalizedSpectraPerSectionPickleAddress,\n",
    "                              allow_pickle=True,\n",
    "                              fix_imports=True)"
   ]
  },
  {
   "cell_type": "code",
   "execution_count": 5,
   "id": "36f0539b",
   "metadata": {},
   "outputs": [
    {
     "name": "stdout",
     "output_type": "stream",
     "text": [
      "Min, Max energy= 0 , 9096  keV\n"
     ]
    }
   ],
   "source": [
    "#compute the eneergy values for each band\n",
    "gain=17.8 #keV/channel\n",
    "energy=np.arange(0,512,1)*gain\n",
    "print('Min, Max energy=',round(min(energy)),',',round(max(energy)),' keV')"
   ]
  },
  {
   "cell_type": "code",
   "execution_count": 6,
   "id": "a068f8d8",
   "metadata": {},
   "outputs": [],
   "source": [
    "#set the directory containing the elemental abundances for 5 degree regions\n",
    "AbundanceFilesDirectory=\"D:/Non-academic/GSOC23/ElementalAbundances\""
   ]
  },
  {
   "cell_type": "code",
   "execution_count": 7,
   "id": "36c8dd96",
   "metadata": {},
   "outputs": [],
   "source": [
    "#get the list of abundance files\n",
    "abundanceFilesNames=os.listdir(AbundanceFilesDirectory)"
   ]
  },
  {
   "cell_type": "code",
   "execution_count": 10,
   "id": "c860e885",
   "metadata": {},
   "outputs": [],
   "source": [
    "#create a list of empty lists to hold the abundance values\n",
    "abundanceValues=[]"
   ]
  },
  {
   "cell_type": "code",
   "execution_count": 11,
   "id": "8b060928",
   "metadata": {},
   "outputs": [],
   "source": [
    "#iterate over all the abundance files\n",
    "for i,currentAbundanceFileName in zip(range(len(abundanceFilesNames)),abundanceFilesNames):\n",
    "    temp=[]\n",
    "    #get the address of the current abundance\n",
    "    currentAbundanceFileAddress=AbundanceFilesDirectory+'/'+currentAbundanceFileName\n",
    "    #open the file in read mode\n",
    "    currentFile=open(currentAbundanceFileAddress,\"r\")\n",
    "    #read each line from the file into a list\n",
    "    currentAbundanceLines=currentFile.readlines()\n",
    "    #close the file\n",
    "    currentFile.close()\n",
    "    \n",
    "    #remove the first 13 lines (indices with 0-12) as they contain metadata\n",
    "    currentAbundanceLines=currentAbundanceLines[13:]\n",
    "    \n",
    "    #iterate over all the lines and save the abundance\n",
    "    for j,currentLine in zip(range(len(currentAbundanceLines)),currentAbundanceLines):\n",
    "        currentLineInfo=re.findall(r\"[-+]?\\d*\\.\\d+|\\d+\",currentLine)\n",
    "        temp.append(float(currentLineInfo[-1]))\n",
    "    abundanceValues.append(temp)"
   ]
  },
  {
   "cell_type": "code",
   "execution_count": 13,
   "id": "333615f6",
   "metadata": {},
   "outputs": [],
   "source": [
    "#create a list of element names\n",
    "elementNames=[]\n",
    "for currentFileName in abundanceFilesNames:\n",
    "    elementNames.append(currentFileName[0].upper()+currentFileName[1:currentFileName.index('5d.txt')])"
   ]
  },
  {
   "cell_type": "code",
   "execution_count": 14,
   "id": "376e922a",
   "metadata": {},
   "outputs": [],
   "source": [
    "for i in range(len(abundanceValues)):\n",
    "    abundanceValues[i]=np.array(abundanceValues[i])"
   ]
  },
  {
   "cell_type": "code",
   "execution_count": 15,
   "id": "796557dc",
   "metadata": {},
   "outputs": [],
   "source": [
    "#convert abundance values into a numpy array\n",
    "abundanceValues=np.vstack(abundanceValues)"
   ]
  },
  {
   "cell_type": "code",
   "execution_count": 17,
   "id": "0c3d88ea",
   "metadata": {},
   "outputs": [],
   "source": [
    "#convert the spectra into lists\n",
    "temp=[]\n",
    "for i in range(summedSpectraPerSection.shape[0]):\n",
    "    temp.append(summedSpectraPerSection[i,:])\n",
    "summedSpectraPerSection=temp\n",
    "\n",
    "\n",
    "temp=[]\n",
    "for i in range(normalizedSpectraPerSection.shape[0]):\n",
    "    temp.append(normalizedSpectraPerSection[i,:])\n",
    "normalizedSpectraPerSection=temp\n",
    "\n",
    "\n",
    "temp=[]\n",
    "for i in range(logScaledNormalizedSpectraPerSection.shape[0]):\n",
    "    temp.append(logScaledNormalizedSpectraPerSection[i,:])\n",
    "logScaledNormalizedSpectraPerSection=temp\n",
    "\n"
   ]
  },
  {
   "cell_type": "code",
   "execution_count": 19,
   "id": "02380760",
   "metadata": {},
   "outputs": [],
   "source": [
    "#create a dictionary containing all the data\n",
    "dataDictionary={\"Max Lat per section\":maxLatitudePerSection,\n",
    "                \"Min Lat per section\":minLatitudePerSection,\n",
    "                \"Max Lon per section\":maxLongitudePerSection,\n",
    "                \"Min Lon per section\":minLongitudePerSection,\n",
    "                \"No. of spectra per section\":noOfSpectraPerSection,\n",
    "                \"Total active time per section\":totalActiveTimePerSection,\n",
    "                \"Summed Spectra\":summedSpectraPerSection,\n",
    "                \"Normalized Spectra\":normalizedSpectraPerSection,\n",
    "                \"Log Normalized Spectra\":logScaledNormalizedSpectraPerSection,\n",
    "                elementNames[0]:abundanceValues[0,:],\n",
    "                elementNames[1]:abundanceValues[1,:],\n",
    "                elementNames[2]:abundanceValues[2,:],\n",
    "                elementNames[3]:abundanceValues[3,:],\n",
    "                elementNames[4]:abundanceValues[4,:],\n",
    "                elementNames[5]:abundanceValues[5,:],\n",
    "                elementNames[6]:abundanceValues[6,:],\n",
    "                elementNames[7]:abundanceValues[7,:],\n",
    "                elementNames[8]:abundanceValues[8,:],\n",
    "                elementNames[9]:abundanceValues[9,:]}"
   ]
  },
  {
   "cell_type": "code",
   "execution_count": 20,
   "id": "dd530144",
   "metadata": {},
   "outputs": [],
   "source": [
    "#import pandas \n",
    "import pandas as pd"
   ]
  },
  {
   "cell_type": "code",
   "execution_count": 21,
   "id": "d8444466",
   "metadata": {},
   "outputs": [],
   "source": [
    "#create a dataframe from the dataset\n",
    "dataframe=pd.DataFrame(dataDictionary)"
   ]
  },
  {
   "cell_type": "code",
   "execution_count": 22,
   "id": "2143b90b",
   "metadata": {},
   "outputs": [],
   "source": [
    "#set the address where the the dataframe is to be saved\n",
    "dataFramePickleAddress=\"D:/Non-academic/GSOC23/Dataset/GRSFiveDegreeSectionDataset.pkl\""
   ]
  },
  {
   "cell_type": "code",
   "execution_count": 23,
   "id": "6a99c8d6",
   "metadata": {},
   "outputs": [],
   "source": [
    "#save the dataframe\n",
    "dataframe.to_pickle(dataFramePickleAddress)"
   ]
  },
  {
   "cell_type": "code",
   "execution_count": null,
   "id": "1ea822e3",
   "metadata": {},
   "outputs": [],
   "source": []
  }
 ],
 "metadata": {
  "kernelspec": {
   "display_name": "Python 3 (ipykernel)",
   "language": "python",
   "name": "python3"
  },
  "language_info": {
   "codemirror_mode": {
    "name": "ipython",
    "version": 3
   },
   "file_extension": ".py",
   "mimetype": "text/x-python",
   "name": "python",
   "nbconvert_exporter": "python",
   "pygments_lexer": "ipython3",
   "version": "3.11.3"
  }
 },
 "nbformat": 4,
 "nbformat_minor": 5
}
